{
  "nbformat": 4,
  "nbformat_minor": 0,
  "metadata": {
    "colab": {
      "provenance": []
    },
    "kernelspec": {
      "name": "python3",
      "display_name": "Python 3"
    },
    "language_info": {
      "name": "python"
    }
  },
  "cells": [
    {
      "cell_type": "code",
      "source": [
        "from google.colab import drive\n",
        "drive.mount('/content/drive')"
      ],
      "metadata": {
        "colab": {
          "base_uri": "https://localhost:8080/"
        },
        "id": "z7o7PWxuAfiE",
        "outputId": "674faa1e-028d-4a9d-99d1-8e15faa7dc94"
      },
      "execution_count": null,
      "outputs": [
        {
          "output_type": "stream",
          "name": "stdout",
          "text": [
            "Drive already mounted at /content/drive; to attempt to forcibly remount, call drive.mount(\"/content/drive\", force_remount=True).\n"
          ]
        }
      ]
    },
    {
      "cell_type": "code",
      "source": [
        "# Import necessary libraries\n",
        "import pandas as pd\n",
        "import numpy as np"
      ],
      "metadata": {
        "id": "Snw6ZoLwA9Au"
      },
      "execution_count": null,
      "outputs": []
    },
    {
      "cell_type": "markdown",
      "source": [
        "# Load the Preprocessed Data"
      ],
      "metadata": {
        "id": "nRjiOQHA_-TW"
      }
    },
    {
      "cell_type": "code",
      "source": [
        "# Load the preprocessed data\n",
        "data = pd.read_csv('/content/drive/MyDrive/SMA_Project/raw/combined_data_preprocessed.csv')\n",
        "\n",
        "# Display the first few rows\n",
        "data.head()"
      ],
      "metadata": {
        "colab": {
          "base_uri": "https://localhost:8080/"
        },
        "id": "ZNYDLS1vAEvb",
        "outputId": "b21abb60-1e31-4ecf-8f65-b4b7711766ca"
      },
      "execution_count": null,
      "outputs": [
        {
          "output_type": "execute_result",
          "data": {
            "text/plain": [
              "   label                                          statement  \\\n",
              "0  False  Says the Annies List political group supports ...   \n",
              "1   True  When did the decline of coal start? It started...   \n",
              "2   True  Hillary Clinton agrees with John McCain \"by vo...   \n",
              "3  False  Health care reform legislation is likely to ma...   \n",
              "4   True  The economic turnaround started at the end of ...   \n",
              "\n",
              "                              subject         speaker           speaker_job  \\\n",
              "0                            abortion    dwayne-bohac  State representative   \n",
              "1  energy,history,job-accomplishments  scott-surovell        State delegate   \n",
              "2                      foreign-policy    barack-obama             President   \n",
              "3                         health-care    blog-posting               Unknown   \n",
              "4                        economy,jobs   charlie-crist               Unknown   \n",
              "\n",
              "  speaker_state speaker_affiliation  barely_true_counts  false_counts  \\\n",
              "0         Texas          republican                 0.0           1.0   \n",
              "1      Virginia            democrat                 0.0           0.0   \n",
              "2      Illinois            democrat                70.0          71.0   \n",
              "3       Unknown                none                 7.0          19.0   \n",
              "4       Florida            democrat                15.0           9.0   \n",
              "\n",
              "   half_true_counts  mostly_true_counts  pants_on_fire_counts  \\\n",
              "0               0.0                 0.0                   0.0   \n",
              "1               1.0                 1.0                   0.0   \n",
              "2             160.0               163.0                   9.0   \n",
              "3               3.0                 5.0                  44.0   \n",
              "4              20.0                19.0                   2.0   \n",
              "\n",
              "               context                                  cleaned_statement  \\\n",
              "0             a mailer  say anies list political group suports thirdtr...   \n",
              "1      a floor speech.  decline coal start started natural gas tok sta...   \n",
              "2               Denver  hilary clinton agres john mcain voting give ge...   \n",
              "3       a news release  health care reform legislation likely mandate ...   \n",
              "4  an interview on CNN               economic turnaround started end term   \n",
              "\n",
              "                                 tokenized_statement  \n",
              "0  ['say', 'anies', 'list', 'political', 'group',...  \n",
              "1  ['decline', 'coal', 'start', 'started', 'natur...  \n",
              "2  ['hilary', 'clinton', 'agres', 'john', 'mcain'...  \n",
              "3  ['health', 'care', 'reform', 'legislation', 'l...  \n",
              "4  ['economic', 'turnaround', 'started', 'end', '...  "
            ],
            "text/html": [
              "\n",
              "  <div id=\"df-63315920-dc69-46ac-9dcb-153ed051ae62\" class=\"colab-df-container\">\n",
              "    <div>\n",
              "<style scoped>\n",
              "    .dataframe tbody tr th:only-of-type {\n",
              "        vertical-align: middle;\n",
              "    }\n",
              "\n",
              "    .dataframe tbody tr th {\n",
              "        vertical-align: top;\n",
              "    }\n",
              "\n",
              "    .dataframe thead th {\n",
              "        text-align: right;\n",
              "    }\n",
              "</style>\n",
              "<table border=\"1\" class=\"dataframe\">\n",
              "  <thead>\n",
              "    <tr style=\"text-align: right;\">\n",
              "      <th></th>\n",
              "      <th>label</th>\n",
              "      <th>statement</th>\n",
              "      <th>subject</th>\n",
              "      <th>speaker</th>\n",
              "      <th>speaker_job</th>\n",
              "      <th>speaker_state</th>\n",
              "      <th>speaker_affiliation</th>\n",
              "      <th>barely_true_counts</th>\n",
              "      <th>false_counts</th>\n",
              "      <th>half_true_counts</th>\n",
              "      <th>mostly_true_counts</th>\n",
              "      <th>pants_on_fire_counts</th>\n",
              "      <th>context</th>\n",
              "      <th>cleaned_statement</th>\n",
              "      <th>tokenized_statement</th>\n",
              "    </tr>\n",
              "  </thead>\n",
              "  <tbody>\n",
              "    <tr>\n",
              "      <th>0</th>\n",
              "      <td>False</td>\n",
              "      <td>Says the Annies List political group supports ...</td>\n",
              "      <td>abortion</td>\n",
              "      <td>dwayne-bohac</td>\n",
              "      <td>State representative</td>\n",
              "      <td>Texas</td>\n",
              "      <td>republican</td>\n",
              "      <td>0.0</td>\n",
              "      <td>1.0</td>\n",
              "      <td>0.0</td>\n",
              "      <td>0.0</td>\n",
              "      <td>0.0</td>\n",
              "      <td>a mailer</td>\n",
              "      <td>say anies list political group suports thirdtr...</td>\n",
              "      <td>['say', 'anies', 'list', 'political', 'group',...</td>\n",
              "    </tr>\n",
              "    <tr>\n",
              "      <th>1</th>\n",
              "      <td>True</td>\n",
              "      <td>When did the decline of coal start? It started...</td>\n",
              "      <td>energy,history,job-accomplishments</td>\n",
              "      <td>scott-surovell</td>\n",
              "      <td>State delegate</td>\n",
              "      <td>Virginia</td>\n",
              "      <td>democrat</td>\n",
              "      <td>0.0</td>\n",
              "      <td>0.0</td>\n",
              "      <td>1.0</td>\n",
              "      <td>1.0</td>\n",
              "      <td>0.0</td>\n",
              "      <td>a floor speech.</td>\n",
              "      <td>decline coal start started natural gas tok sta...</td>\n",
              "      <td>['decline', 'coal', 'start', 'started', 'natur...</td>\n",
              "    </tr>\n",
              "    <tr>\n",
              "      <th>2</th>\n",
              "      <td>True</td>\n",
              "      <td>Hillary Clinton agrees with John McCain \"by vo...</td>\n",
              "      <td>foreign-policy</td>\n",
              "      <td>barack-obama</td>\n",
              "      <td>President</td>\n",
              "      <td>Illinois</td>\n",
              "      <td>democrat</td>\n",
              "      <td>70.0</td>\n",
              "      <td>71.0</td>\n",
              "      <td>160.0</td>\n",
              "      <td>163.0</td>\n",
              "      <td>9.0</td>\n",
              "      <td>Denver</td>\n",
              "      <td>hilary clinton agres john mcain voting give ge...</td>\n",
              "      <td>['hilary', 'clinton', 'agres', 'john', 'mcain'...</td>\n",
              "    </tr>\n",
              "    <tr>\n",
              "      <th>3</th>\n",
              "      <td>False</td>\n",
              "      <td>Health care reform legislation is likely to ma...</td>\n",
              "      <td>health-care</td>\n",
              "      <td>blog-posting</td>\n",
              "      <td>Unknown</td>\n",
              "      <td>Unknown</td>\n",
              "      <td>none</td>\n",
              "      <td>7.0</td>\n",
              "      <td>19.0</td>\n",
              "      <td>3.0</td>\n",
              "      <td>5.0</td>\n",
              "      <td>44.0</td>\n",
              "      <td>a news release</td>\n",
              "      <td>health care reform legislation likely mandate ...</td>\n",
              "      <td>['health', 'care', 'reform', 'legislation', 'l...</td>\n",
              "    </tr>\n",
              "    <tr>\n",
              "      <th>4</th>\n",
              "      <td>True</td>\n",
              "      <td>The economic turnaround started at the end of ...</td>\n",
              "      <td>economy,jobs</td>\n",
              "      <td>charlie-crist</td>\n",
              "      <td>Unknown</td>\n",
              "      <td>Florida</td>\n",
              "      <td>democrat</td>\n",
              "      <td>15.0</td>\n",
              "      <td>9.0</td>\n",
              "      <td>20.0</td>\n",
              "      <td>19.0</td>\n",
              "      <td>2.0</td>\n",
              "      <td>an interview on CNN</td>\n",
              "      <td>economic turnaround started end term</td>\n",
              "      <td>['economic', 'turnaround', 'started', 'end', '...</td>\n",
              "    </tr>\n",
              "  </tbody>\n",
              "</table>\n",
              "</div>\n",
              "    <div class=\"colab-df-buttons\">\n",
              "\n",
              "  <div class=\"colab-df-container\">\n",
              "    <button class=\"colab-df-convert\" onclick=\"convertToInteractive('df-63315920-dc69-46ac-9dcb-153ed051ae62')\"\n",
              "            title=\"Convert this dataframe to an interactive table.\"\n",
              "            style=\"display:none;\">\n",
              "\n",
              "  <svg xmlns=\"http://www.w3.org/2000/svg\" height=\"24px\" viewBox=\"0 -960 960 960\">\n",
              "    <path d=\"M120-120v-720h720v720H120Zm60-500h600v-160H180v160Zm220 220h160v-160H400v160Zm0 220h160v-160H400v160ZM180-400h160v-160H180v160Zm440 0h160v-160H620v160ZM180-180h160v-160H180v160Zm440 0h160v-160H620v160Z\"/>\n",
              "  </svg>\n",
              "    </button>\n",
              "\n",
              "  <style>\n",
              "    .colab-df-container {\n",
              "      display:flex;\n",
              "      gap: 12px;\n",
              "    }\n",
              "\n",
              "    .colab-df-convert {\n",
              "      background-color: #E8F0FE;\n",
              "      border: none;\n",
              "      border-radius: 50%;\n",
              "      cursor: pointer;\n",
              "      display: none;\n",
              "      fill: #1967D2;\n",
              "      height: 32px;\n",
              "      padding: 0 0 0 0;\n",
              "      width: 32px;\n",
              "    }\n",
              "\n",
              "    .colab-df-convert:hover {\n",
              "      background-color: #E2EBFA;\n",
              "      box-shadow: 0px 1px 2px rgba(60, 64, 67, 0.3), 0px 1px 3px 1px rgba(60, 64, 67, 0.15);\n",
              "      fill: #174EA6;\n",
              "    }\n",
              "\n",
              "    .colab-df-buttons div {\n",
              "      margin-bottom: 4px;\n",
              "    }\n",
              "\n",
              "    [theme=dark] .colab-df-convert {\n",
              "      background-color: #3B4455;\n",
              "      fill: #D2E3FC;\n",
              "    }\n",
              "\n",
              "    [theme=dark] .colab-df-convert:hover {\n",
              "      background-color: #434B5C;\n",
              "      box-shadow: 0px 1px 3px 1px rgba(0, 0, 0, 0.15);\n",
              "      filter: drop-shadow(0px 1px 2px rgba(0, 0, 0, 0.3));\n",
              "      fill: #FFFFFF;\n",
              "    }\n",
              "  </style>\n",
              "\n",
              "    <script>\n",
              "      const buttonEl =\n",
              "        document.querySelector('#df-63315920-dc69-46ac-9dcb-153ed051ae62 button.colab-df-convert');\n",
              "      buttonEl.style.display =\n",
              "        google.colab.kernel.accessAllowed ? 'block' : 'none';\n",
              "\n",
              "      async function convertToInteractive(key) {\n",
              "        const element = document.querySelector('#df-63315920-dc69-46ac-9dcb-153ed051ae62');\n",
              "        const dataTable =\n",
              "          await google.colab.kernel.invokeFunction('convertToInteractive',\n",
              "                                                    [key], {});\n",
              "        if (!dataTable) return;\n",
              "\n",
              "        const docLinkHtml = 'Like what you see? Visit the ' +\n",
              "          '<a target=\"_blank\" href=https://colab.research.google.com/notebooks/data_table.ipynb>data table notebook</a>'\n",
              "          + ' to learn more about interactive tables.';\n",
              "        element.innerHTML = '';\n",
              "        dataTable['output_type'] = 'display_data';\n",
              "        await google.colab.output.renderOutput(dataTable, element);\n",
              "        const docLink = document.createElement('div');\n",
              "        docLink.innerHTML = docLinkHtml;\n",
              "        element.appendChild(docLink);\n",
              "      }\n",
              "    </script>\n",
              "  </div>\n",
              "\n",
              "\n",
              "<div id=\"df-06fe0561-3b72-4b8a-b5f6-92e1649d2dba\">\n",
              "  <button class=\"colab-df-quickchart\" onclick=\"quickchart('df-06fe0561-3b72-4b8a-b5f6-92e1649d2dba')\"\n",
              "            title=\"Suggest charts\"\n",
              "            style=\"display:none;\">\n",
              "\n",
              "<svg xmlns=\"http://www.w3.org/2000/svg\" height=\"24px\"viewBox=\"0 0 24 24\"\n",
              "     width=\"24px\">\n",
              "    <g>\n",
              "        <path d=\"M19 3H5c-1.1 0-2 .9-2 2v14c0 1.1.9 2 2 2h14c1.1 0 2-.9 2-2V5c0-1.1-.9-2-2-2zM9 17H7v-7h2v7zm4 0h-2V7h2v10zm4 0h-2v-4h2v4z\"/>\n",
              "    </g>\n",
              "</svg>\n",
              "  </button>\n",
              "\n",
              "<style>\n",
              "  .colab-df-quickchart {\n",
              "      --bg-color: #E8F0FE;\n",
              "      --fill-color: #1967D2;\n",
              "      --hover-bg-color: #E2EBFA;\n",
              "      --hover-fill-color: #174EA6;\n",
              "      --disabled-fill-color: #AAA;\n",
              "      --disabled-bg-color: #DDD;\n",
              "  }\n",
              "\n",
              "  [theme=dark] .colab-df-quickchart {\n",
              "      --bg-color: #3B4455;\n",
              "      --fill-color: #D2E3FC;\n",
              "      --hover-bg-color: #434B5C;\n",
              "      --hover-fill-color: #FFFFFF;\n",
              "      --disabled-bg-color: #3B4455;\n",
              "      --disabled-fill-color: #666;\n",
              "  }\n",
              "\n",
              "  .colab-df-quickchart {\n",
              "    background-color: var(--bg-color);\n",
              "    border: none;\n",
              "    border-radius: 50%;\n",
              "    cursor: pointer;\n",
              "    display: none;\n",
              "    fill: var(--fill-color);\n",
              "    height: 32px;\n",
              "    padding: 0;\n",
              "    width: 32px;\n",
              "  }\n",
              "\n",
              "  .colab-df-quickchart:hover {\n",
              "    background-color: var(--hover-bg-color);\n",
              "    box-shadow: 0 1px 2px rgba(60, 64, 67, 0.3), 0 1px 3px 1px rgba(60, 64, 67, 0.15);\n",
              "    fill: var(--button-hover-fill-color);\n",
              "  }\n",
              "\n",
              "  .colab-df-quickchart-complete:disabled,\n",
              "  .colab-df-quickchart-complete:disabled:hover {\n",
              "    background-color: var(--disabled-bg-color);\n",
              "    fill: var(--disabled-fill-color);\n",
              "    box-shadow: none;\n",
              "  }\n",
              "\n",
              "  .colab-df-spinner {\n",
              "    border: 2px solid var(--fill-color);\n",
              "    border-color: transparent;\n",
              "    border-bottom-color: var(--fill-color);\n",
              "    animation:\n",
              "      spin 1s steps(1) infinite;\n",
              "  }\n",
              "\n",
              "  @keyframes spin {\n",
              "    0% {\n",
              "      border-color: transparent;\n",
              "      border-bottom-color: var(--fill-color);\n",
              "      border-left-color: var(--fill-color);\n",
              "    }\n",
              "    20% {\n",
              "      border-color: transparent;\n",
              "      border-left-color: var(--fill-color);\n",
              "      border-top-color: var(--fill-color);\n",
              "    }\n",
              "    30% {\n",
              "      border-color: transparent;\n",
              "      border-left-color: var(--fill-color);\n",
              "      border-top-color: var(--fill-color);\n",
              "      border-right-color: var(--fill-color);\n",
              "    }\n",
              "    40% {\n",
              "      border-color: transparent;\n",
              "      border-right-color: var(--fill-color);\n",
              "      border-top-color: var(--fill-color);\n",
              "    }\n",
              "    60% {\n",
              "      border-color: transparent;\n",
              "      border-right-color: var(--fill-color);\n",
              "    }\n",
              "    80% {\n",
              "      border-color: transparent;\n",
              "      border-right-color: var(--fill-color);\n",
              "      border-bottom-color: var(--fill-color);\n",
              "    }\n",
              "    90% {\n",
              "      border-color: transparent;\n",
              "      border-bottom-color: var(--fill-color);\n",
              "    }\n",
              "  }\n",
              "</style>\n",
              "\n",
              "  <script>\n",
              "    async function quickchart(key) {\n",
              "      const quickchartButtonEl =\n",
              "        document.querySelector('#' + key + ' button');\n",
              "      quickchartButtonEl.disabled = true;  // To prevent multiple clicks.\n",
              "      quickchartButtonEl.classList.add('colab-df-spinner');\n",
              "      try {\n",
              "        const charts = await google.colab.kernel.invokeFunction(\n",
              "            'suggestCharts', [key], {});\n",
              "      } catch (error) {\n",
              "        console.error('Error during call to suggestCharts:', error);\n",
              "      }\n",
              "      quickchartButtonEl.classList.remove('colab-df-spinner');\n",
              "      quickchartButtonEl.classList.add('colab-df-quickchart-complete');\n",
              "    }\n",
              "    (() => {\n",
              "      let quickchartButtonEl =\n",
              "        document.querySelector('#df-06fe0561-3b72-4b8a-b5f6-92e1649d2dba button');\n",
              "      quickchartButtonEl.style.display =\n",
              "        google.colab.kernel.accessAllowed ? 'block' : 'none';\n",
              "    })();\n",
              "  </script>\n",
              "</div>\n",
              "\n",
              "    </div>\n",
              "  </div>\n"
            ],
            "application/vnd.google.colaboratory.intrinsic+json": {
              "type": "dataframe",
              "variable_name": "data",
              "summary": "{\n  \"name\": \"data\",\n  \"rows\": 12790,\n  \"fields\": [\n    {\n      \"column\": \"label\",\n      \"properties\": {\n        \"dtype\": \"boolean\",\n        \"num_unique_values\": 2,\n        \"samples\": [\n          true,\n          false\n        ],\n        \"semantic_type\": \"\",\n        \"description\": \"\"\n      }\n    },\n    {\n      \"column\": \"statement\",\n      \"properties\": {\n        \"dtype\": \"string\",\n        \"num_unique_values\": 12765,\n        \"samples\": [\n          \"Says in Oregon only 41 percent of adults have ever been tested for HIV.\",\n          \"Obamacare Medical Codes Confirm: Execution by Beheading To Be Implemented in America.\"\n        ],\n        \"semantic_type\": \"\",\n        \"description\": \"\"\n      }\n    },\n    {\n      \"column\": \"subject\",\n      \"properties\": {\n        \"dtype\": \"category\",\n        \"num_unique_values\": 4535,\n        \"samples\": [\n          \"economy,history,taxes\",\n          \"economy,jobs,states,taxes\"\n        ],\n        \"semantic_type\": \"\",\n        \"description\": \"\"\n      }\n    },\n    {\n      \"column\": \"speaker\",\n      \"properties\": {\n        \"dtype\": \"category\",\n        \"num_unique_values\": 3310,\n        \"samples\": [\n          \"michelle-obama\",\n          \"turning-point-usa\"\n        ],\n        \"semantic_type\": \"\",\n        \"description\": \"\"\n      }\n    },\n    {\n      \"column\": \"speaker_job\",\n      \"properties\": {\n        \"dtype\": \"category\",\n        \"num_unique_values\": 1354,\n        \"samples\": [\n          \"R.I. General Treasurer\",\n          \"food bank\"\n        ],\n        \"semantic_type\": \"\",\n        \"description\": \"\"\n      }\n    },\n    {\n      \"column\": \"speaker_state\",\n      \"properties\": {\n        \"dtype\": \"category\",\n        \"num_unique_values\": 84,\n        \"samples\": [\n          \"Virgiia\",\n          \"Texas\"\n        ],\n        \"semantic_type\": \"\",\n        \"description\": \"\"\n      }\n    },\n    {\n      \"column\": \"speaker_affiliation\",\n      \"properties\": {\n        \"dtype\": \"category\",\n        \"num_unique_values\": 25,\n        \"samples\": [\n          \"libertarian\",\n          \"Unknown\"\n        ],\n        \"semantic_type\": \"\",\n        \"description\": \"\"\n      }\n    },\n    {\n      \"column\": \"barely_true_counts\",\n      \"properties\": {\n        \"dtype\": \"number\",\n        \"std\": 18.9777288828307,\n        \"min\": 0.0,\n        \"max\": 70.0,\n        \"num_unique_values\": 30,\n        \"samples\": [\n          8.0,\n          13.0\n        ],\n        \"semantic_type\": \"\",\n        \"description\": \"\"\n      }\n    },\n    {\n      \"column\": \"false_counts\",\n      \"properties\": {\n        \"dtype\": \"number\",\n        \"std\": 24.139607233811514,\n        \"min\": 0.0,\n        \"max\": 114.0,\n        \"num_unique_values\": 30,\n        \"samples\": [\n          18.0,\n          43.0\n        ],\n        \"semantic_type\": \"\",\n        \"description\": \"\"\n      }\n    },\n    {\n      \"column\": \"half_true_counts\",\n      \"properties\": {\n        \"dtype\": \"number\",\n        \"std\": 35.84673129233954,\n        \"min\": 0.0,\n        \"max\": 160.0,\n        \"num_unique_values\": 29,\n        \"samples\": [\n          12.0,\n          7.0\n        ],\n        \"semantic_type\": \"\",\n        \"description\": \"\"\n      }\n    },\n    {\n      \"column\": \"mostly_true_counts\",\n      \"properties\": {\n        \"dtype\": \"number\",\n        \"std\": 36.16430791919944,\n        \"min\": 0.0,\n        \"max\": 163.0,\n        \"num_unique_values\": 27,\n        \"samples\": [\n          4.0,\n          6.0\n        ],\n        \"semantic_type\": \"\",\n        \"description\": \"\"\n      }\n    },\n    {\n      \"column\": \"pants_on_fire_counts\",\n      \"properties\": {\n        \"dtype\": \"number\",\n        \"std\": 16.180333132622295,\n        \"min\": 0.0,\n        \"max\": 105.0,\n        \"num_unique_values\": 20,\n        \"samples\": [\n          0.0,\n          6.0\n        ],\n        \"semantic_type\": \"\",\n        \"description\": \"\"\n      }\n    },\n    {\n      \"column\": \"context\",\n      \"properties\": {\n        \"dtype\": \"category\",\n        \"num_unique_values\": 5143,\n        \"samples\": [\n          \"a story in The Star-Ledger\",\n          \"interview with Knoxville News Sentinel's Tom Humphrey.\"\n        ],\n        \"semantic_type\": \"\",\n        \"description\": \"\"\n      }\n    },\n    {\n      \"column\": \"cleaned_statement\",\n      \"properties\": {\n        \"dtype\": \"string\",\n        \"num_unique_values\": 12755,\n        \"samples\": [\n          \"say new jersey losing fotbal field open space development every day develop upstream floding downstream\",\n          \"take credit reining state spending governor\"\n        ],\n        \"semantic_type\": \"\",\n        \"description\": \"\"\n      }\n    },\n    {\n      \"column\": \"tokenized_statement\",\n      \"properties\": {\n        \"dtype\": \"string\",\n        \"num_unique_values\": 12755,\n        \"samples\": [\n          \"['say', 'new', 'jersey', 'losing', 'fotbal', 'field', 'open', 'space', 'development', 'every', 'day', 'develop', 'upstream', 'floding', 'downstream']\",\n          \"['take', 'credit', 'reining', 'state', 'spending', 'governor']\"\n        ],\n        \"semantic_type\": \"\",\n        \"description\": \"\"\n      }\n    }\n  ]\n}"
            }
          },
          "metadata": {},
          "execution_count": 161
        }
      ]
    },
    {
      "cell_type": "code",
      "source": [
        "import pandas as pd\n",
        "from sklearn.preprocessing import LabelEncoder\n",
        "\n",
        "# Columns to analyze variance\n",
        "columns_to_analyze = ['subject', 'speaker', 'speaker_job', 'speaker_state', 'speaker_affiliation']\n",
        "\n",
        "# Iterate through specified columns\n",
        "for col in columns_to_analyze:\n",
        "    if data[col].dtype == 'object':\n",
        "        # Label Encoding for object columns\n",
        "        le = LabelEncoder()\n",
        "        data[col] = le.fit_transform(data[col])\n",
        "\n",
        "    # Calculate variance\n",
        "    variance = data[col].var()\n",
        "    print(f\"Variance of {col}: {variance}\")"
      ],
      "metadata": {
        "colab": {
          "base_uri": "https://localhost:8080/"
        },
        "id": "OQNpid22N9lR",
        "outputId": "fe545f28-9176-45df-b774-f78bc224123b"
      },
      "execution_count": null,
      "outputs": [
        {
          "output_type": "stream",
          "name": "stdout",
          "text": [
            "Variance of subject: 1722129.0859813183\n",
            "Variance of speaker: 924580.4444260062\n",
            "Variance of speaker_job: 106306.0625097932\n",
            "Variance of speaker_state: 525.9215218365573\n",
            "Variance of speaker_affiliation: 40.080497637387644\n"
          ]
        }
      ]
    },
    {
      "cell_type": "code",
      "source": [
        "from statsmodels.stats.outliers_influence import variance_inflation_factor\n",
        "\n",
        "# Columns to analyze variance\n",
        "columns_to_analyze = ['subject', 'speaker', 'speaker_job', 'speaker_state', 'speaker_affiliation']\n",
        "\n",
        "# Iterate through specified columns\n",
        "for col in columns_to_analyze:\n",
        "    if data[col].dtype == 'object':\n",
        "        # Label Encoding for object columns\n",
        "        le = LabelEncoder()\n",
        "        data[col] = le.fit_transform(data[col])\n",
        "\n",
        "# Columns for VIF analysis\n",
        "columns_for_vif = ['subject', 'speaker', 'speaker_job', 'speaker_state', 'speaker_affiliation']\n",
        "X = data[columns_for_vif]\n",
        "\n",
        "# Calculate VIF for each feature\n",
        "vif_data = pd.DataFrame()\n",
        "vif_data[\"feature\"] = X.columns\n",
        "vif_data[\"VIF\"] = [variance_inflation_factor(X.values, i) for i in range(len(X.columns))]\n",
        "\n",
        "# Identify features with VIF < 3\n",
        "low_vif_features = vif_data[vif_data[\"VIF\"] < 3][\"feature\"].tolist()\n",
        "high_vif_features = vif_data[vif_data[\"VIF\"] >= 3][\"feature\"].tolist()\n",
        "\n",
        "# Create new dataframes with low and high vif features\n",
        "X_low_vif = X[low_vif_features]\n",
        "X_high_vif = X[high_vif_features]\n",
        "\n",
        "print(\"\\nFeatures with low multicollinearity (VIF < 3):\")\n",
        "print(X_low_vif.head())\n",
        "\n",
        "print(\"\\nFeatures with high multicollinearity (VIF >= 3):\")\n",
        "print(X_high_vif.head())"
      ],
      "metadata": {
        "colab": {
          "base_uri": "https://localhost:8080/"
        },
        "id": "EMVbFqCPODSK",
        "outputId": "5ed522b9-0e8b-426b-d8f1-558cd8a5bd97"
      },
      "execution_count": null,
      "outputs": [
        {
          "output_type": "stream",
          "name": "stdout",
          "text": [
            "\n",
            "Features with low multicollinearity (VIF < 3):\n",
            "Empty DataFrame\n",
            "Columns: []\n",
            "Index: [0, 1, 2, 3, 4]\n",
            "\n",
            "Features with high multicollinearity (VIF >= 3):\n",
            "   subject  speaker  speaker_job  speaker_state  speaker_affiliation\n",
            "0       35      915          993             62                   21\n",
            "1     3057     2829          990             69                    7\n",
            "2     3425      211          732             20                    7\n",
            "3     3667      310         1094             64                   18\n",
            "4     2603      487         1094             13                    7\n"
          ]
        }
      ]
    },
    {
      "cell_type": "markdown",
      "source": [
        "# 2. Feature Representation"
      ],
      "metadata": {
        "id": "Nkq0ed-KBU51"
      }
    },
    {
      "cell_type": "markdown",
      "source": [
        "## 2.1 Bag of Words (BoW)"
      ],
      "metadata": {
        "id": "aZdMARrlBg2L"
      }
    },
    {
      "cell_type": "code",
      "source": [
        "from sklearn.feature_extraction.text import CountVectorizer\n",
        "\n",
        "# Initialize CountVectorizer\n",
        "bow_vectorizer = CountVectorizer()\n",
        "\n",
        "# Fit and transform the cleaned statements\n",
        "bow_features = bow_vectorizer.fit_transform(data['cleaned_statement'])\n",
        "\n",
        "# Display the shape of the BoW features\n",
        "print(\"Bag of Words Features Shape:\", bow_features.shape)\n"
      ],
      "metadata": {
        "id": "w5OyafueBWfP",
        "colab": {
          "base_uri": "https://localhost:8080/"
        },
        "outputId": "6cadf85d-52fb-476e-9107-0e98ce0e3c47"
      },
      "execution_count": null,
      "outputs": [
        {
          "output_type": "stream",
          "name": "stdout",
          "text": [
            "Bag of Words Features Shape: (12790, 12196)\n"
          ]
        }
      ]
    },
    {
      "cell_type": "markdown",
      "source": [
        "## 2.2 Term Frequency-Inverse Document Frequency (TF-IDF)"
      ],
      "metadata": {
        "id": "j0IzylHJBlTA"
      }
    },
    {
      "cell_type": "code",
      "source": [
        "from sklearn.feature_extraction.text import TfidfVectorizer\n",
        "\n",
        "# Initialize TfidfVectorizer\n",
        "tfidf_vectorizer = TfidfVectorizer()\n",
        "\n",
        "# Fit and transform the cleaned statements\n",
        "tfidf_features = tfidf_vectorizer.fit_transform(data['cleaned_statement'])\n",
        "\n",
        "# Display the shape of the TF-IDF features\n",
        "print(\"TF-IDF Features Shape:\", tfidf_features.shape)"
      ],
      "metadata": {
        "colab": {
          "base_uri": "https://localhost:8080/"
        },
        "id": "LZwdCGPhBpx0",
        "outputId": "f64c6659-f837-41f3-c931-8d4871f82bb0"
      },
      "execution_count": null,
      "outputs": [
        {
          "output_type": "stream",
          "name": "stdout",
          "text": [
            "TF-IDF Features Shape: (12790, 12196)\n"
          ]
        }
      ]
    },
    {
      "cell_type": "markdown",
      "source": [
        "## 2.3 GloVe Embeddings"
      ],
      "metadata": {
        "id": "KtcWkd3yBs7f"
      }
    },
    {
      "cell_type": "code",
      "source": [
        "import gensim.downloader as api\n",
        "\n",
        "# Load the GloVe model\n",
        "print(\"Loading GloVe model...\")\n",
        "glove_model = api.load(\"glove-twitter-100\")\n",
        "print(\"GloVe model loaded.\")\n",
        "\n",
        "# Function to get GloVe embeddings\n",
        "def get_glove_embedding(text):\n",
        "    tokens = text.split()\n",
        "    embeddings = [glove_model[word] for word in tokens if word in glove_model]\n",
        "    if embeddings:\n",
        "        return np.mean(embeddings, axis=0)\n",
        "    else:\n",
        "        return np.zeros(100)  # Assuming the GloVe vectors are of size 100\n",
        "\n",
        "# Apply the function to the cleaned statements\n",
        "data['glove_embedding'] = data['cleaned_statement'].apply(get_glove_embedding)\n",
        "\n",
        "# Stack the embeddings into a 2D array\n",
        "glove_features = np.vstack(data['glove_embedding'].values)\n",
        "\n",
        "# Display the shape of the GloVe features\n",
        "print(\"GloVe Features Shape:\", glove_features.shape)\n"
      ],
      "metadata": {
        "colab": {
          "base_uri": "https://localhost:8080/"
        },
        "id": "RR7zYO-yByy7",
        "outputId": "29a171a3-a809-4764-96d3-c7fd20aeb391"
      },
      "execution_count": null,
      "outputs": [
        {
          "output_type": "stream",
          "name": "stdout",
          "text": [
            "Loading GloVe model...\n",
            "GloVe model loaded.\n",
            "GloVe Features Shape: (12790, 100)\n"
          ]
        }
      ]
    },
    {
      "cell_type": "markdown",
      "source": [
        "# 3. Feature Selection"
      ],
      "metadata": {
        "id": "0iNYXkyDB7v3"
      }
    },
    {
      "cell_type": "markdown",
      "source": [
        "## 3.1. Preparing the Target Variable"
      ],
      "metadata": {
        "id": "DclotCRcB-YB"
      }
    },
    {
      "cell_type": "code",
      "source": [
        "from sklearn.preprocessing import LabelEncoder\n",
        "\n",
        "# Encode the labels\n",
        "label_encoder = LabelEncoder()\n",
        "y = label_encoder.fit_transform(data['label'])\n"
      ],
      "metadata": {
        "id": "RVjpNGFfCBKA"
      },
      "execution_count": null,
      "outputs": []
    },
    {
      "cell_type": "markdown",
      "source": [
        "## 3.2. Selecting Top 100 Features Using Chi-Square Test"
      ],
      "metadata": {
        "id": "WuI-kYJvCEew"
      }
    },
    {
      "cell_type": "markdown",
      "source": [
        "### 3.2.1. For Bag of Words"
      ],
      "metadata": {
        "id": "i6Bkc9I3CGAo"
      }
    },
    {
      "cell_type": "code",
      "source": [
        "from sklearn.feature_selection import SelectKBest, chi2\n",
        "\n",
        "# Perform chi-square test\n",
        "chi2_selector = SelectKBest(chi2, k=100)\n",
        "bow_kbest = chi2_selector.fit_transform(bow_features, y)\n",
        "\n",
        "# Get the selected feature names\n",
        "bow_feature_names = bow_vectorizer.get_feature_names_out()\n",
        "bow_selected_indices = chi2_selector.get_support(indices=True)\n",
        "bow_selected_features = [bow_feature_names[i] for i in bow_selected_indices]\n",
        "\n",
        "print(\"Top 100 features selected from Bag of Words:\")\n",
        "print(bow_selected_features)"
      ],
      "metadata": {
        "id": "DsHrgZbiCHyd",
        "colab": {
          "base_uri": "https://localhost:8080/"
        },
        "outputId": "4c67fda0-5b8f-470a-9259-b275babd6c84"
      },
      "execution_count": null,
      "outputs": [
        {
          "output_type": "stream",
          "name": "stdout",
          "text": [
            "Top 100 features selected from Bag of Words:\n",
            "['almost', 'american', 'among', 'average', 'barack', 'benghazi', 'bety', 'botom', 'bulb', 'bureaucrat', 'care', 'check', 'christian', 'clinton', 'colege', 'coruption', 'country', 'day', 'debt', 'decade', 'deciding', 'dufy', 'every', 'face', 'family', 'firearm', 'georgia', 'going', 'gov', 'graduation', 'group', 'grown', 'half', 'health', 'highest', 'hilary', 'hurt', 'income', 'increased', 'last', 'le', 'light', 'loses', 'lowest', 'manufacturing', 'milion', 'month', 'murphy', 'muslim', 'nation', 'nearly', 'obama', 'obamacare', 'obamas', 'percent', 'plan', 'poverty', 'prayer', 'president', 'price', 'radical', 'rate', 'rep', 'richest', 'say', 'scheme', 'scot', 'sean', 'security', 'senior', 'since', 'social', 'socialist', 'spending', 'spends', 'stadium', 'state', 'stil', 'stimulus', 'story', 'suports', 'suton', 'takeover', 'tery', 'texas', 'thre', 'time', 'today', 'told', 'top', 'wage', 'walker', 'weve', 'white', 'wil', 'wisconsin', 'world', 'worth', 'year', 'youve']\n"
          ]
        }
      ]
    },
    {
      "cell_type": "markdown",
      "source": [
        "### 3.2.2. For TF-IDF"
      ],
      "metadata": {
        "id": "UubCEUVDCKGg"
      }
    },
    {
      "cell_type": "code",
      "source": [
        "# Perform chi-square test\n",
        "chi2_selector = SelectKBest(chi2, k=100)\n",
        "tfidf_kbest = chi2_selector.fit_transform(tfidf_features, y)\n",
        "\n",
        "# Get the selected feature names\n",
        "tfidf_feature_names = tfidf_vectorizer.get_feature_names_out()\n",
        "tfidf_selected_indices = chi2_selector.get_support(indices=True)\n",
        "tfidf_selected_features = [tfidf_feature_names[i] for i in tfidf_selected_indices]\n",
        "\n",
        "print(\"Top 100 features selected from TF-IDF:\")\n",
        "print(tfidf_selected_features)\n"
      ],
      "metadata": {
        "id": "jwtB6tVrCMUo",
        "colab": {
          "base_uri": "https://localhost:8080/"
        },
        "outputId": "ff73ee3c-a62b-41f6-d2a8-b52044e2d9cd"
      },
      "execution_count": null,
      "outputs": [
        {
          "output_type": "stream",
          "name": "stdout",
          "text": [
            "Top 100 features selected from TF-IDF:\n",
            "['almost', 'american', 'average', 'barack', 'benghazi', 'bety', 'botom', 'bulb', 'bureaucrat', 'capandtrade', 'care', 'check', 'clinton', 'colege', 'congresman', 'coruption', 'country', 'cucineli', 'day', 'debt', 'decade', 'deciding', 'destroyed', 'doctor', 'dufy', 'every', 'everybody', 'face', 'firearm', 'georgia', 'going', 'governmentrun', 'graduation', 'group', 'grown', 'half', 'health', 'highest', 'hilary', 'hurt', 'husein', 'ilegals', 'incarceration', 'income', 'increased', 'last', 'loses', 'lowest', 'manufacturing', 'martin', 'mcaulife', 'mental', 'milion', 'month', 'murphy', 'muslim', 'nation', 'obama', 'obamacare', 'obamas', 'ohio', 'percent', 'plan', 'poverty', 'president', 'rate', 'rep', 'richest', 'say', 'scheme', 'scot', 'sean', 'security', 'since', 'social', 'socialist', 'spending', 'spends', 'stadium', 'state', 'stil', 'stimulus', 'story', 'suports', 'suton', 'takeover', 'tery', 'th', 'thre', 'time', 'today', 'top', 'torture', 'victory', 'walker', 'wealth', 'wil', 'wisconsin', 'world', 'year']\n"
          ]
        }
      ]
    },
    {
      "cell_type": "markdown",
      "source": [
        "## 3.3 Add VIF Features After Chi-Square Feature Selection"
      ],
      "metadata": {
        "id": "1KMPeZCXSrUl"
      }
    },
    {
      "cell_type": "markdown",
      "source": [
        "### 3.3.1 Prepare VIF Features"
      ],
      "metadata": {
        "id": "1lc1UEGkSun1"
      }
    },
    {
      "cell_type": "code",
      "source": [
        "# Combine low and high VIF features if desired\n",
        "X_vif_combined = pd.concat([X_low_vif], axis=1)\n",
        "\n",
        "# Ensure the indices align\n",
        "X_vif_combined.reset_index(drop=True, inplace=True)\n"
      ],
      "metadata": {
        "id": "nh-3nscsS7L9"
      },
      "execution_count": null,
      "outputs": []
    },
    {
      "cell_type": "markdown",
      "source": [
        "### 3.3.2 Add VIF Features to Selected Features"
      ],
      "metadata": {
        "id": "nYmaTZCGS9aH"
      }
    },
    {
      "cell_type": "code",
      "source": [
        "# For BoW Selected Features\n",
        "\n",
        "# Create a DataFrame with selected BoW features\n",
        "bow_selected_df = pd.DataFrame(bow_kbest.toarray(), columns=bow_selected_features)\n",
        "\n",
        "# Reset indices\n",
        "bow_selected_df.reset_index(drop=True, inplace=True)\n",
        "\n",
        "# Concatenate the VIF features with the selected BoW features\n",
        "bow_selected_df = pd.concat([bow_selected_df, X_vif_combined], axis=1)\n",
        "\n",
        "# Display the shape\n",
        "print(\"BoW Features Shape after adding VIF features:\", bow_selected_df.shape)\n",
        "\n",
        "\n",
        "# For TF-IDF Selected Features\n",
        "# Create a DataFrame with selected TF-IDF features\n",
        "tfidf_selected_df = pd.DataFrame(tfidf_kbest.toarray(), columns=tfidf_selected_features)\n",
        "\n",
        "# Reset indices\n",
        "tfidf_selected_df.reset_index(drop=True, inplace=True)\n",
        "\n",
        "# Concatenate the VIF features with the selected TF-IDF features\n",
        "tfidf_selected_df = pd.concat([tfidf_selected_df, X_vif_combined], axis=1)\n",
        "\n",
        "# Display the shape\n",
        "print(\"TF-IDF Features Shape after adding VIF features:\", tfidf_selected_df.shape)\n",
        "\n",
        "# For GloVe Features\n",
        "\n",
        "# Create a DataFrame with GloVe embeddings\n",
        "glove_df = pd.DataFrame(glove_features)\n",
        "\n",
        "# Reset indices\n",
        "glove_df.reset_index(drop=True, inplace=True)\n",
        "\n",
        "# Concatenate the VIF features with the GloVe embeddings\n",
        "glove_df = pd.concat([glove_df, X_vif_combined], axis=1)\n",
        "\n",
        "# Display the shape\n",
        "print(\"GloVe Features Shape after adding VIF features:\", glove_df.shape)\n",
        "glove_df.shape\n"
      ],
      "metadata": {
        "id": "1i0wd1maTD26",
        "colab": {
          "base_uri": "https://localhost:8080/"
        },
        "outputId": "4cd8a8d2-0593-40c1-ef6b-9fed96cc3efb"
      },
      "execution_count": null,
      "outputs": [
        {
          "output_type": "stream",
          "name": "stdout",
          "text": [
            "BoW Features Shape after adding VIF features: (12790, 100)\n",
            "TF-IDF Features Shape after adding VIF features: (12790, 100)\n",
            "GloVe Features Shape after adding VIF features: (12790, 100)\n"
          ]
        },
        {
          "output_type": "stream",
          "name": "stderr",
          "text": [
            "<ipython-input-149-ab31d5262e30>:38: FutureWarning: The behavior of array concatenation with empty entries is deprecated. In a future version, this will no longer exclude empty items when determining the result dtype. To retain the old behavior, exclude the empty entries before the concat operation.\n",
            "  glove_df = pd.concat([glove_df, X_vif_combined], axis=1)\n"
          ]
        },
        {
          "output_type": "execute_result",
          "data": {
            "text/plain": [
              "(12790, 100)"
            ]
          },
          "metadata": {},
          "execution_count": 149
        }
      ]
    },
    {
      "cell_type": "code",
      "source": [
        "glove_df.shape"
      ],
      "metadata": {
        "id": "lOKTqkr9faUe",
        "colab": {
          "base_uri": "https://localhost:8080/"
        },
        "outputId": "b169f765-74e8-4b48-e397-3470faf49585"
      },
      "execution_count": null,
      "outputs": [
        {
          "output_type": "execute_result",
          "data": {
            "text/plain": [
              "(12790, 100)"
            ]
          },
          "metadata": {},
          "execution_count": 150
        }
      ]
    },
    {
      "cell_type": "markdown",
      "source": [
        "# 4. Save Processed Data for Model Training"
      ],
      "metadata": {
        "id": "OtNvtbXECNie"
      }
    },
    {
      "cell_type": "markdown",
      "source": [
        "## 4.1 Saving BoW Selected Features"
      ],
      "metadata": {
        "id": "_-9LpO03CsG3"
      }
    },
    {
      "cell_type": "code",
      "source": [
        "# Save to CSV\n",
        "bow_selected_df.to_csv('/content/drive/MyDrive/SMA_Project/raw/bow_selected_features.csv', index=False)\n"
      ],
      "metadata": {
        "id": "fWWqdgohCtdu"
      },
      "execution_count": null,
      "outputs": []
    },
    {
      "cell_type": "markdown",
      "source": [
        "## 4.2 Saving TF-IDF Selected Features"
      ],
      "metadata": {
        "id": "fOuZ2GqFC7X7"
      }
    },
    {
      "cell_type": "code",
      "source": [
        "# Save to CSV\n",
        "tfidf_selected_df.to_csv('/content/drive/MyDrive/SMA_Project/raw/tfidf_selected_features.csv', index=False)\n"
      ],
      "metadata": {
        "id": "xsyeG9LgC8oN"
      },
      "execution_count": null,
      "outputs": []
    },
    {
      "cell_type": "markdown",
      "source": [
        "## 4.3 Saving GloVe Embeddings"
      ],
      "metadata": {
        "id": "0N81QGbdDG3e"
      }
    },
    {
      "cell_type": "code",
      "source": [
        "# Save to CSV\n",
        "glove_df.to_csv('/content/drive/MyDrive/SMA_Project/raw/glove_features.csv', index=False)\n"
      ],
      "metadata": {
        "id": "1JFug2KtDJYG"
      },
      "execution_count": null,
      "outputs": []
    },
    {
      "cell_type": "markdown",
      "source": [
        "## 4.4 Saving Labels"
      ],
      "metadata": {
        "id": "l9GTHADsDSLr"
      }
    },
    {
      "cell_type": "code",
      "source": [
        "# Save labels\n",
        "labels_df = pd.DataFrame({'label': y})\n",
        "\n",
        "# Save to CSV\n",
        "labels_df.to_csv('/content/drive/MyDrive/SMA_Project/raw/labels.csv', index=False)\n"
      ],
      "metadata": {
        "id": "xA2wv0YnDVLf"
      },
      "execution_count": null,
      "outputs": []
    },
    {
      "cell_type": "code",
      "source": [
        "labels_df.head()"
      ],
      "metadata": {
        "id": "U7YQQBldDvVI",
        "colab": {
          "base_uri": "https://localhost:8080/",
          "height": 206
        },
        "outputId": "c5918aa9-8b9f-41fb-fe1b-1481c34475c9"
      },
      "execution_count": null,
      "outputs": [
        {
          "output_type": "execute_result",
          "data": {
            "text/plain": [
              "   label\n",
              "0      0\n",
              "1      1\n",
              "2      1\n",
              "3      0\n",
              "4      1"
            ],
            "text/html": [
              "\n",
              "  <div id=\"df-ca77a22e-d0e9-4fa8-9972-f8480d4c94f6\" class=\"colab-df-container\">\n",
              "    <div>\n",
              "<style scoped>\n",
              "    .dataframe tbody tr th:only-of-type {\n",
              "        vertical-align: middle;\n",
              "    }\n",
              "\n",
              "    .dataframe tbody tr th {\n",
              "        vertical-align: top;\n",
              "    }\n",
              "\n",
              "    .dataframe thead th {\n",
              "        text-align: right;\n",
              "    }\n",
              "</style>\n",
              "<table border=\"1\" class=\"dataframe\">\n",
              "  <thead>\n",
              "    <tr style=\"text-align: right;\">\n",
              "      <th></th>\n",
              "      <th>label</th>\n",
              "    </tr>\n",
              "  </thead>\n",
              "  <tbody>\n",
              "    <tr>\n",
              "      <th>0</th>\n",
              "      <td>0</td>\n",
              "    </tr>\n",
              "    <tr>\n",
              "      <th>1</th>\n",
              "      <td>1</td>\n",
              "    </tr>\n",
              "    <tr>\n",
              "      <th>2</th>\n",
              "      <td>1</td>\n",
              "    </tr>\n",
              "    <tr>\n",
              "      <th>3</th>\n",
              "      <td>0</td>\n",
              "    </tr>\n",
              "    <tr>\n",
              "      <th>4</th>\n",
              "      <td>1</td>\n",
              "    </tr>\n",
              "  </tbody>\n",
              "</table>\n",
              "</div>\n",
              "    <div class=\"colab-df-buttons\">\n",
              "\n",
              "  <div class=\"colab-df-container\">\n",
              "    <button class=\"colab-df-convert\" onclick=\"convertToInteractive('df-ca77a22e-d0e9-4fa8-9972-f8480d4c94f6')\"\n",
              "            title=\"Convert this dataframe to an interactive table.\"\n",
              "            style=\"display:none;\">\n",
              "\n",
              "  <svg xmlns=\"http://www.w3.org/2000/svg\" height=\"24px\" viewBox=\"0 -960 960 960\">\n",
              "    <path d=\"M120-120v-720h720v720H120Zm60-500h600v-160H180v160Zm220 220h160v-160H400v160Zm0 220h160v-160H400v160ZM180-400h160v-160H180v160Zm440 0h160v-160H620v160ZM180-180h160v-160H180v160Zm440 0h160v-160H620v160Z\"/>\n",
              "  </svg>\n",
              "    </button>\n",
              "\n",
              "  <style>\n",
              "    .colab-df-container {\n",
              "      display:flex;\n",
              "      gap: 12px;\n",
              "    }\n",
              "\n",
              "    .colab-df-convert {\n",
              "      background-color: #E8F0FE;\n",
              "      border: none;\n",
              "      border-radius: 50%;\n",
              "      cursor: pointer;\n",
              "      display: none;\n",
              "      fill: #1967D2;\n",
              "      height: 32px;\n",
              "      padding: 0 0 0 0;\n",
              "      width: 32px;\n",
              "    }\n",
              "\n",
              "    .colab-df-convert:hover {\n",
              "      background-color: #E2EBFA;\n",
              "      box-shadow: 0px 1px 2px rgba(60, 64, 67, 0.3), 0px 1px 3px 1px rgba(60, 64, 67, 0.15);\n",
              "      fill: #174EA6;\n",
              "    }\n",
              "\n",
              "    .colab-df-buttons div {\n",
              "      margin-bottom: 4px;\n",
              "    }\n",
              "\n",
              "    [theme=dark] .colab-df-convert {\n",
              "      background-color: #3B4455;\n",
              "      fill: #D2E3FC;\n",
              "    }\n",
              "\n",
              "    [theme=dark] .colab-df-convert:hover {\n",
              "      background-color: #434B5C;\n",
              "      box-shadow: 0px 1px 3px 1px rgba(0, 0, 0, 0.15);\n",
              "      filter: drop-shadow(0px 1px 2px rgba(0, 0, 0, 0.3));\n",
              "      fill: #FFFFFF;\n",
              "    }\n",
              "  </style>\n",
              "\n",
              "    <script>\n",
              "      const buttonEl =\n",
              "        document.querySelector('#df-ca77a22e-d0e9-4fa8-9972-f8480d4c94f6 button.colab-df-convert');\n",
              "      buttonEl.style.display =\n",
              "        google.colab.kernel.accessAllowed ? 'block' : 'none';\n",
              "\n",
              "      async function convertToInteractive(key) {\n",
              "        const element = document.querySelector('#df-ca77a22e-d0e9-4fa8-9972-f8480d4c94f6');\n",
              "        const dataTable =\n",
              "          await google.colab.kernel.invokeFunction('convertToInteractive',\n",
              "                                                    [key], {});\n",
              "        if (!dataTable) return;\n",
              "\n",
              "        const docLinkHtml = 'Like what you see? Visit the ' +\n",
              "          '<a target=\"_blank\" href=https://colab.research.google.com/notebooks/data_table.ipynb>data table notebook</a>'\n",
              "          + ' to learn more about interactive tables.';\n",
              "        element.innerHTML = '';\n",
              "        dataTable['output_type'] = 'display_data';\n",
              "        await google.colab.output.renderOutput(dataTable, element);\n",
              "        const docLink = document.createElement('div');\n",
              "        docLink.innerHTML = docLinkHtml;\n",
              "        element.appendChild(docLink);\n",
              "      }\n",
              "    </script>\n",
              "  </div>\n",
              "\n",
              "\n",
              "<div id=\"df-2bf78522-a736-48de-878d-810a74b9a92f\">\n",
              "  <button class=\"colab-df-quickchart\" onclick=\"quickchart('df-2bf78522-a736-48de-878d-810a74b9a92f')\"\n",
              "            title=\"Suggest charts\"\n",
              "            style=\"display:none;\">\n",
              "\n",
              "<svg xmlns=\"http://www.w3.org/2000/svg\" height=\"24px\"viewBox=\"0 0 24 24\"\n",
              "     width=\"24px\">\n",
              "    <g>\n",
              "        <path d=\"M19 3H5c-1.1 0-2 .9-2 2v14c0 1.1.9 2 2 2h14c1.1 0 2-.9 2-2V5c0-1.1-.9-2-2-2zM9 17H7v-7h2v7zm4 0h-2V7h2v10zm4 0h-2v-4h2v4z\"/>\n",
              "    </g>\n",
              "</svg>\n",
              "  </button>\n",
              "\n",
              "<style>\n",
              "  .colab-df-quickchart {\n",
              "      --bg-color: #E8F0FE;\n",
              "      --fill-color: #1967D2;\n",
              "      --hover-bg-color: #E2EBFA;\n",
              "      --hover-fill-color: #174EA6;\n",
              "      --disabled-fill-color: #AAA;\n",
              "      --disabled-bg-color: #DDD;\n",
              "  }\n",
              "\n",
              "  [theme=dark] .colab-df-quickchart {\n",
              "      --bg-color: #3B4455;\n",
              "      --fill-color: #D2E3FC;\n",
              "      --hover-bg-color: #434B5C;\n",
              "      --hover-fill-color: #FFFFFF;\n",
              "      --disabled-bg-color: #3B4455;\n",
              "      --disabled-fill-color: #666;\n",
              "  }\n",
              "\n",
              "  .colab-df-quickchart {\n",
              "    background-color: var(--bg-color);\n",
              "    border: none;\n",
              "    border-radius: 50%;\n",
              "    cursor: pointer;\n",
              "    display: none;\n",
              "    fill: var(--fill-color);\n",
              "    height: 32px;\n",
              "    padding: 0;\n",
              "    width: 32px;\n",
              "  }\n",
              "\n",
              "  .colab-df-quickchart:hover {\n",
              "    background-color: var(--hover-bg-color);\n",
              "    box-shadow: 0 1px 2px rgba(60, 64, 67, 0.3), 0 1px 3px 1px rgba(60, 64, 67, 0.15);\n",
              "    fill: var(--button-hover-fill-color);\n",
              "  }\n",
              "\n",
              "  .colab-df-quickchart-complete:disabled,\n",
              "  .colab-df-quickchart-complete:disabled:hover {\n",
              "    background-color: var(--disabled-bg-color);\n",
              "    fill: var(--disabled-fill-color);\n",
              "    box-shadow: none;\n",
              "  }\n",
              "\n",
              "  .colab-df-spinner {\n",
              "    border: 2px solid var(--fill-color);\n",
              "    border-color: transparent;\n",
              "    border-bottom-color: var(--fill-color);\n",
              "    animation:\n",
              "      spin 1s steps(1) infinite;\n",
              "  }\n",
              "\n",
              "  @keyframes spin {\n",
              "    0% {\n",
              "      border-color: transparent;\n",
              "      border-bottom-color: var(--fill-color);\n",
              "      border-left-color: var(--fill-color);\n",
              "    }\n",
              "    20% {\n",
              "      border-color: transparent;\n",
              "      border-left-color: var(--fill-color);\n",
              "      border-top-color: var(--fill-color);\n",
              "    }\n",
              "    30% {\n",
              "      border-color: transparent;\n",
              "      border-left-color: var(--fill-color);\n",
              "      border-top-color: var(--fill-color);\n",
              "      border-right-color: var(--fill-color);\n",
              "    }\n",
              "    40% {\n",
              "      border-color: transparent;\n",
              "      border-right-color: var(--fill-color);\n",
              "      border-top-color: var(--fill-color);\n",
              "    }\n",
              "    60% {\n",
              "      border-color: transparent;\n",
              "      border-right-color: var(--fill-color);\n",
              "    }\n",
              "    80% {\n",
              "      border-color: transparent;\n",
              "      border-right-color: var(--fill-color);\n",
              "      border-bottom-color: var(--fill-color);\n",
              "    }\n",
              "    90% {\n",
              "      border-color: transparent;\n",
              "      border-bottom-color: var(--fill-color);\n",
              "    }\n",
              "  }\n",
              "</style>\n",
              "\n",
              "  <script>\n",
              "    async function quickchart(key) {\n",
              "      const quickchartButtonEl =\n",
              "        document.querySelector('#' + key + ' button');\n",
              "      quickchartButtonEl.disabled = true;  // To prevent multiple clicks.\n",
              "      quickchartButtonEl.classList.add('colab-df-spinner');\n",
              "      try {\n",
              "        const charts = await google.colab.kernel.invokeFunction(\n",
              "            'suggestCharts', [key], {});\n",
              "      } catch (error) {\n",
              "        console.error('Error during call to suggestCharts:', error);\n",
              "      }\n",
              "      quickchartButtonEl.classList.remove('colab-df-spinner');\n",
              "      quickchartButtonEl.classList.add('colab-df-quickchart-complete');\n",
              "    }\n",
              "    (() => {\n",
              "      let quickchartButtonEl =\n",
              "        document.querySelector('#df-2bf78522-a736-48de-878d-810a74b9a92f button');\n",
              "      quickchartButtonEl.style.display =\n",
              "        google.colab.kernel.accessAllowed ? 'block' : 'none';\n",
              "    })();\n",
              "  </script>\n",
              "</div>\n",
              "\n",
              "    </div>\n",
              "  </div>\n"
            ],
            "application/vnd.google.colaboratory.intrinsic+json": {
              "type": "dataframe",
              "variable_name": "labels_df",
              "summary": "{\n  \"name\": \"labels_df\",\n  \"rows\": 12790,\n  \"fields\": [\n    {\n      \"column\": \"label\",\n      \"properties\": {\n        \"dtype\": \"number\",\n        \"std\": 0,\n        \"min\": 0,\n        \"max\": 1,\n        \"num_unique_values\": 2,\n        \"samples\": [\n          1,\n          0\n        ],\n        \"semantic_type\": \"\",\n        \"description\": \"\"\n      }\n    }\n  ]\n}"
            }
          },
          "metadata": {},
          "execution_count": 155
        }
      ]
    }
  ]
}